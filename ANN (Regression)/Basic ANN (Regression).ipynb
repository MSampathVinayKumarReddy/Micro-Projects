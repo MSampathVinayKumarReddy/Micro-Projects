{
 "cells": [
  {
   "cell_type": "markdown",
   "metadata": {
    "id": "iSlFong6N2d5"
   },
   "source": [
    "# Regression in ANN"
   ]
  },
  {
   "cell_type": "markdown",
   "metadata": {
    "id": "iEu7dIiyOBuK"
   },
   "source": [
    "# Dataset\n",
    "\n",
    "# Combined Cycle Power Plant Data Set"
   ]
  },
  {
   "cell_type": "markdown",
   "metadata": {
    "id": "-mNc6YWGOKOb"
   },
   "source": [
    "Attribute Information:\n",
    "\n",
    "Features consist of hourly average ambient variables\n",
    "- Temperature (T) in the range 1.81°C and 37.11°C,\n",
    "- Ambient Pressure (AP) in the range 992.89-1033.30 milibar,\n",
    "- Relative Humidity (RH) in the range 25.56% to 100.16%\n",
    "- Exhaust Vacuum (V) in teh range 25.36-81.56 cm Hg\n",
    "- Net hourly electrical energy output (EP) 420.26-495.76 MW\n",
    "The averages are taken from various sensors located around the plant that record the ambient variables every second. The variables are given without normalization."
   ]
  },
  {
   "cell_type": "code",
   "execution_count": 1,
   "metadata": {
    "id": "5W8bQ7JpOLB6"
   },
   "outputs": [],
   "source": [
    "import numpy as np\n",
    "import pandas as pd\n",
    "import tensorflow as tf"
   ]
  },
  {
   "cell_type": "code",
   "execution_count": 2,
   "metadata": {
    "colab": {
     "base_uri": "https://localhost:8080/",
     "height": 35
    },
    "id": "92raOT80OUrl",
    "outputId": "7f29e94d-7474-40bc-ba65-03b40b84f61c"
   },
   "outputs": [
    {
     "data": {
      "application/vnd.google.colaboratory.intrinsic+json": {
       "type": "string"
      },
      "text/plain": [
       "'2.4.1'"
      ]
     },
     "execution_count": 2,
     "metadata": {
      "tags": []
     },
     "output_type": "execute_result"
    }
   ],
   "source": [
    "tf.__version__"
   ]
  },
  {
   "cell_type": "code",
   "execution_count": 3,
   "metadata": {
    "colab": {
     "base_uri": "https://localhost:8080/",
     "height": 195
    },
    "id": "KL4Z_vaMOYAb",
    "outputId": "9fc9e92c-a58a-4814-ac92-2019e35cbb22"
   },
   "outputs": [
    {
     "data": {
      "text/html": [
       "<div>\n",
       "<style scoped>\n",
       "    .dataframe tbody tr th:only-of-type {\n",
       "        vertical-align: middle;\n",
       "    }\n",
       "\n",
       "    .dataframe tbody tr th {\n",
       "        vertical-align: top;\n",
       "    }\n",
       "\n",
       "    .dataframe thead th {\n",
       "        text-align: right;\n",
       "    }\n",
       "</style>\n",
       "<table border=\"1\" class=\"dataframe\">\n",
       "  <thead>\n",
       "    <tr style=\"text-align: right;\">\n",
       "      <th></th>\n",
       "      <th>AT</th>\n",
       "      <th>V</th>\n",
       "      <th>AP</th>\n",
       "      <th>RH</th>\n",
       "      <th>PE</th>\n",
       "    </tr>\n",
       "  </thead>\n",
       "  <tbody>\n",
       "    <tr>\n",
       "      <th>0</th>\n",
       "      <td>14.96</td>\n",
       "      <td>41.76</td>\n",
       "      <td>1024.07</td>\n",
       "      <td>73.17</td>\n",
       "      <td>463.26</td>\n",
       "    </tr>\n",
       "    <tr>\n",
       "      <th>1</th>\n",
       "      <td>25.18</td>\n",
       "      <td>62.96</td>\n",
       "      <td>1020.04</td>\n",
       "      <td>59.08</td>\n",
       "      <td>444.37</td>\n",
       "    </tr>\n",
       "    <tr>\n",
       "      <th>2</th>\n",
       "      <td>5.11</td>\n",
       "      <td>39.40</td>\n",
       "      <td>1012.16</td>\n",
       "      <td>92.14</td>\n",
       "      <td>488.56</td>\n",
       "    </tr>\n",
       "    <tr>\n",
       "      <th>3</th>\n",
       "      <td>20.86</td>\n",
       "      <td>57.32</td>\n",
       "      <td>1010.24</td>\n",
       "      <td>76.64</td>\n",
       "      <td>446.48</td>\n",
       "    </tr>\n",
       "    <tr>\n",
       "      <th>4</th>\n",
       "      <td>10.82</td>\n",
       "      <td>37.50</td>\n",
       "      <td>1009.23</td>\n",
       "      <td>96.62</td>\n",
       "      <td>473.90</td>\n",
       "    </tr>\n",
       "  </tbody>\n",
       "</table>\n",
       "</div>"
      ],
      "text/plain": [
       "      AT      V       AP     RH      PE\n",
       "0  14.96  41.76  1024.07  73.17  463.26\n",
       "1  25.18  62.96  1020.04  59.08  444.37\n",
       "2   5.11  39.40  1012.16  92.14  488.56\n",
       "3  20.86  57.32  1010.24  76.64  446.48\n",
       "4  10.82  37.50  1009.23  96.62  473.90"
      ]
     },
     "execution_count": 3,
     "metadata": {
      "tags": []
     },
     "output_type": "execute_result"
    }
   ],
   "source": [
    "data=pd.read_excel('/content/Folds5x2_pp.xlsx')\n",
    "data.head()"
   ]
  },
  {
   "cell_type": "code",
   "execution_count": 4,
   "metadata": {
    "id": "jUg6QRR8OhR7"
   },
   "outputs": [],
   "source": [
    "X=data.iloc[:,:-1].values\n",
    "y=data.iloc[:,-1].values"
   ]
  },
  {
   "cell_type": "code",
   "execution_count": 5,
   "metadata": {
    "id": "XTfTHPm8OvxN"
   },
   "outputs": [],
   "source": [
    "from sklearn.model_selection import train_test_split\n",
    "X_train,X_test,y_train,y_test=train_test_split(X,y,test_size=0.25,random_state=12)"
   ]
  },
  {
   "cell_type": "markdown",
   "metadata": {
    "id": "s-RcyPeIPWZs"
   },
   "source": [
    "# Building ANN"
   ]
  },
  {
   "cell_type": "code",
   "execution_count": 6,
   "metadata": {
    "id": "Il_vqOvEPaO3"
   },
   "outputs": [],
   "source": [
    "ann=tf.keras.Sequential()\n",
    "ann.add(tf.keras.layers.Dense(units=6,activation='relu'))\n",
    "ann.add(tf.keras.layers.Dense(units=6,activation='relu'))\n",
    "ann.add(tf.keras.layers.Dense(units=1))"
   ]
  },
  {
   "cell_type": "code",
   "execution_count": 7,
   "metadata": {
    "id": "hNgIZcL6QDo2"
   },
   "outputs": [],
   "source": [
    "ann.compile(optimizer='adam',loss='mean_squared_error')"
   ]
  },
  {
   "cell_type": "code",
   "execution_count": 8,
   "metadata": {
    "colab": {
     "base_uri": "https://localhost:8080/"
    },
    "id": "DZ_mUVY5QM-l",
    "outputId": "762a9a7d-ce01-40a0-c4a5-425523809ed4"
   },
   "outputs": [
    {
     "name": "stdout",
     "output_type": "stream",
     "text": [
      "Epoch 1/100\n",
      "225/225 [==============================] - 1s 1ms/step - loss: 1859.6892\n",
      "Epoch 2/100\n",
      "225/225 [==============================] - 0s 1ms/step - loss: 104.5928\n",
      "Epoch 3/100\n",
      "225/225 [==============================] - 0s 1ms/step - loss: 97.0063\n",
      "Epoch 4/100\n",
      "225/225 [==============================] - 0s 966us/step - loss: 92.5676\n",
      "Epoch 5/100\n",
      "225/225 [==============================] - 0s 1ms/step - loss: 83.4532\n",
      "Epoch 6/100\n",
      "225/225 [==============================] - 0s 1ms/step - loss: 75.2452\n",
      "Epoch 7/100\n",
      "225/225 [==============================] - 0s 1ms/step - loss: 69.8636\n",
      "Epoch 8/100\n",
      "225/225 [==============================] - 0s 1ms/step - loss: 61.9271\n",
      "Epoch 9/100\n",
      "225/225 [==============================] - 0s 1ms/step - loss: 54.1370\n",
      "Epoch 10/100\n",
      "225/225 [==============================] - 0s 970us/step - loss: 49.3847\n",
      "Epoch 11/100\n",
      "225/225 [==============================] - 0s 969us/step - loss: 45.1665\n",
      "Epoch 12/100\n",
      "225/225 [==============================] - 0s 1ms/step - loss: 40.5076\n",
      "Epoch 13/100\n",
      "225/225 [==============================] - 0s 1ms/step - loss: 38.4176\n",
      "Epoch 14/100\n",
      "225/225 [==============================] - 0s 1ms/step - loss: 36.3392\n",
      "Epoch 15/100\n",
      "225/225 [==============================] - 0s 1ms/step - loss: 32.7086\n",
      "Epoch 16/100\n",
      "225/225 [==============================] - 0s 969us/step - loss: 32.0005\n",
      "Epoch 17/100\n",
      "225/225 [==============================] - 0s 943us/step - loss: 31.3202\n",
      "Epoch 18/100\n",
      "225/225 [==============================] - 0s 1ms/step - loss: 30.3219\n",
      "Epoch 19/100\n",
      "225/225 [==============================] - 0s 1ms/step - loss: 28.8044\n",
      "Epoch 20/100\n",
      "225/225 [==============================] - 0s 992us/step - loss: 28.7553\n",
      "Epoch 21/100\n",
      "225/225 [==============================] - 0s 997us/step - loss: 29.3668\n",
      "Epoch 22/100\n",
      "225/225 [==============================] - 0s 1ms/step - loss: 29.8672\n",
      "Epoch 23/100\n",
      "225/225 [==============================] - 0s 1ms/step - loss: 28.9322\n",
      "Epoch 24/100\n",
      "225/225 [==============================] - 0s 1ms/step - loss: 29.1599\n",
      "Epoch 25/100\n",
      "225/225 [==============================] - 0s 1ms/step - loss: 28.8104\n",
      "Epoch 26/100\n",
      "225/225 [==============================] - 0s 1ms/step - loss: 27.5825\n",
      "Epoch 27/100\n",
      "225/225 [==============================] - 0s 1ms/step - loss: 26.8128\n",
      "Epoch 28/100\n",
      "225/225 [==============================] - 0s 1ms/step - loss: 27.6934\n",
      "Epoch 29/100\n",
      "225/225 [==============================] - 0s 968us/step - loss: 26.8979\n",
      "Epoch 30/100\n",
      "225/225 [==============================] - 0s 994us/step - loss: 28.4779\n",
      "Epoch 31/100\n",
      "225/225 [==============================] - 0s 984us/step - loss: 28.7809\n",
      "Epoch 32/100\n",
      "225/225 [==============================] - 0s 955us/step - loss: 26.7586\n",
      "Epoch 33/100\n",
      "225/225 [==============================] - 0s 1ms/step - loss: 27.0985\n",
      "Epoch 34/100\n",
      "225/225 [==============================] - 0s 987us/step - loss: 27.5081\n",
      "Epoch 35/100\n",
      "225/225 [==============================] - 0s 1ms/step - loss: 26.9029\n",
      "Epoch 36/100\n",
      "225/225 [==============================] - 0s 996us/step - loss: 27.0981\n",
      "Epoch 37/100\n",
      "225/225 [==============================] - 0s 1ms/step - loss: 27.0406\n",
      "Epoch 38/100\n",
      "225/225 [==============================] - 0s 1ms/step - loss: 28.1582\n",
      "Epoch 39/100\n",
      "225/225 [==============================] - 0s 987us/step - loss: 27.7753\n",
      "Epoch 40/100\n",
      "225/225 [==============================] - 0s 1ms/step - loss: 25.9038\n",
      "Epoch 41/100\n",
      "225/225 [==============================] - 0s 1ms/step - loss: 26.2539\n",
      "Epoch 42/100\n",
      "225/225 [==============================] - 0s 991us/step - loss: 28.1317\n",
      "Epoch 43/100\n",
      "225/225 [==============================] - 0s 1ms/step - loss: 25.9018\n",
      "Epoch 44/100\n",
      "225/225 [==============================] - 0s 992us/step - loss: 27.0873\n",
      "Epoch 45/100\n",
      "225/225 [==============================] - 0s 1ms/step - loss: 27.0386\n",
      "Epoch 46/100\n",
      "225/225 [==============================] - 0s 1ms/step - loss: 27.9754\n",
      "Epoch 47/100\n",
      "225/225 [==============================] - 0s 982us/step - loss: 26.5417\n",
      "Epoch 48/100\n",
      "225/225 [==============================] - 0s 1ms/step - loss: 27.2066\n",
      "Epoch 49/100\n",
      "225/225 [==============================] - 0s 966us/step - loss: 26.3154\n",
      "Epoch 50/100\n",
      "225/225 [==============================] - 0s 983us/step - loss: 26.8678\n",
      "Epoch 51/100\n",
      "225/225 [==============================] - 0s 952us/step - loss: 26.9130\n",
      "Epoch 52/100\n",
      "225/225 [==============================] - 0s 992us/step - loss: 27.3854\n",
      "Epoch 53/100\n",
      "225/225 [==============================] - 0s 1ms/step - loss: 28.1175\n",
      "Epoch 54/100\n",
      "225/225 [==============================] - 0s 1ms/step - loss: 27.6499\n",
      "Epoch 55/100\n",
      "225/225 [==============================] - 0s 963us/step - loss: 26.7002\n",
      "Epoch 56/100\n",
      "225/225 [==============================] - 0s 1ms/step - loss: 27.4658\n",
      "Epoch 57/100\n",
      "225/225 [==============================] - 0s 1ms/step - loss: 27.0809\n",
      "Epoch 58/100\n",
      "225/225 [==============================] - 0s 1ms/step - loss: 26.8085\n",
      "Epoch 59/100\n",
      "225/225 [==============================] - 0s 1ms/step - loss: 26.6854\n",
      "Epoch 60/100\n",
      "225/225 [==============================] - 0s 976us/step - loss: 27.1559\n",
      "Epoch 61/100\n",
      "225/225 [==============================] - 0s 1ms/step - loss: 26.3462\n",
      "Epoch 62/100\n",
      "225/225 [==============================] - 0s 1ms/step - loss: 27.6713\n",
      "Epoch 63/100\n",
      "225/225 [==============================] - 0s 1ms/step - loss: 27.1077\n",
      "Epoch 64/100\n",
      "225/225 [==============================] - 0s 987us/step - loss: 26.6663\n",
      "Epoch 65/100\n",
      "225/225 [==============================] - 0s 976us/step - loss: 27.2234\n",
      "Epoch 66/100\n",
      "225/225 [==============================] - 0s 1ms/step - loss: 25.3596\n",
      "Epoch 67/100\n",
      "225/225 [==============================] - 0s 1ms/step - loss: 26.0095\n",
      "Epoch 68/100\n",
      "225/225 [==============================] - 0s 1ms/step - loss: 26.6678\n",
      "Epoch 69/100\n",
      "225/225 [==============================] - 0s 966us/step - loss: 26.2728\n",
      "Epoch 70/100\n",
      "225/225 [==============================] - 0s 963us/step - loss: 26.8494\n",
      "Epoch 71/100\n",
      "225/225 [==============================] - 0s 1ms/step - loss: 28.3364\n",
      "Epoch 72/100\n",
      "225/225 [==============================] - 0s 1ms/step - loss: 26.2811\n",
      "Epoch 73/100\n",
      "225/225 [==============================] - 0s 996us/step - loss: 27.1735\n",
      "Epoch 74/100\n",
      "225/225 [==============================] - 0s 1ms/step - loss: 26.3699\n",
      "Epoch 75/100\n",
      "225/225 [==============================] - 0s 962us/step - loss: 26.2488\n",
      "Epoch 76/100\n",
      "225/225 [==============================] - 0s 1ms/step - loss: 27.5660\n",
      "Epoch 77/100\n",
      "225/225 [==============================] - 0s 1ms/step - loss: 27.8993\n",
      "Epoch 78/100\n",
      "225/225 [==============================] - 0s 1ms/step - loss: 27.4669\n",
      "Epoch 79/100\n",
      "225/225 [==============================] - 0s 970us/step - loss: 27.4419\n",
      "Epoch 80/100\n",
      "225/225 [==============================] - 0s 1ms/step - loss: 26.6558\n",
      "Epoch 81/100\n",
      "225/225 [==============================] - 0s 1ms/step - loss: 28.1820\n",
      "Epoch 82/100\n",
      "225/225 [==============================] - 0s 1ms/step - loss: 26.4381\n",
      "Epoch 83/100\n",
      "225/225 [==============================] - 0s 1ms/step - loss: 25.8708\n",
      "Epoch 84/100\n",
      "225/225 [==============================] - 0s 1ms/step - loss: 27.4168\n",
      "Epoch 85/100\n",
      "225/225 [==============================] - 0s 1ms/step - loss: 25.4746\n",
      "Epoch 86/100\n",
      "225/225 [==============================] - 0s 1ms/step - loss: 28.0525\n",
      "Epoch 87/100\n",
      "225/225 [==============================] - 0s 980us/step - loss: 26.0398\n",
      "Epoch 88/100\n",
      "225/225 [==============================] - 0s 976us/step - loss: 26.9713\n",
      "Epoch 89/100\n",
      "225/225 [==============================] - 0s 1ms/step - loss: 26.7725\n",
      "Epoch 90/100\n",
      "225/225 [==============================] - 0s 983us/step - loss: 27.0682\n",
      "Epoch 91/100\n",
      "225/225 [==============================] - 0s 1ms/step - loss: 27.0441\n",
      "Epoch 92/100\n",
      "225/225 [==============================] - 0s 959us/step - loss: 25.6162\n",
      "Epoch 93/100\n",
      "225/225 [==============================] - 0s 992us/step - loss: 26.5523\n",
      "Epoch 94/100\n",
      "225/225 [==============================] - 0s 1ms/step - loss: 26.4899\n",
      "Epoch 95/100\n",
      "225/225 [==============================] - 0s 979us/step - loss: 27.7095\n",
      "Epoch 96/100\n",
      "225/225 [==============================] - 0s 1ms/step - loss: 26.0052\n",
      "Epoch 97/100\n",
      "225/225 [==============================] - 0s 984us/step - loss: 26.9758\n",
      "Epoch 98/100\n",
      "225/225 [==============================] - 0s 1ms/step - loss: 26.9630\n",
      "Epoch 99/100\n",
      "225/225 [==============================] - 0s 1ms/step - loss: 26.0127\n",
      "Epoch 100/100\n",
      "225/225 [==============================] - 0s 988us/step - loss: 26.9686\n"
     ]
    },
    {
     "data": {
      "text/plain": [
       "<tensorflow.python.keras.callbacks.History at 0x7f6261e0ce50>"
      ]
     },
     "execution_count": 8,
     "metadata": {
      "tags": []
     },
     "output_type": "execute_result"
    }
   ],
   "source": [
    "ann.fit(X_train,y_train,batch_size=32,epochs=100)"
   ]
  },
  {
   "cell_type": "code",
   "execution_count": 9,
   "metadata": {
    "id": "BzlnyllkQUQ5"
   },
   "outputs": [],
   "source": [
    "y_pred=ann.predict(X_test)"
   ]
  },
  {
   "cell_type": "code",
   "execution_count": 10,
   "metadata": {
    "colab": {
     "base_uri": "https://localhost:8080/"
    },
    "id": "aBo_43x0QbZX",
    "outputId": "8d79acf6-71aa-48af-849c-d064b1858586"
   },
   "outputs": [
    {
     "name": "stdout",
     "output_type": "stream",
     "text": [
      "[[447.12 446.36]\n",
      " [489.42 489.68]\n",
      " [435.93 426.48]\n",
      " ...\n",
      " [449.64 443.5 ]\n",
      " [448.45 444.76]\n",
      " [433.94 432.93]]\n"
     ]
    }
   ],
   "source": [
    "np.set_printoptions(precision=2)\n",
    "print(np.concatenate((y_pred.reshape(len(y_pred),1),y_test.reshape(len(y_test),1)),1))"
   ]
  }
 ],
 "metadata": {
  "colab": {
   "name": "Untitled0.ipynb",
   "provenance": []
  },
  "kernelspec": {
   "display_name": "Python 3",
   "language": "python",
   "name": "python3"
  },
  "language_info": {
   "codemirror_mode": {
    "name": "ipython",
    "version": 3
   },
   "file_extension": ".py",
   "mimetype": "text/x-python",
   "name": "python",
   "nbconvert_exporter": "python",
   "pygments_lexer": "ipython3",
   "version": "3.8.8"
  }
 },
 "nbformat": 4,
 "nbformat_minor": 1
}
